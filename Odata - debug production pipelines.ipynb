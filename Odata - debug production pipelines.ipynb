{
 "cells": [
  {
   "cell_type": "markdown",
   "metadata": {},
   "source": [
    "# Odata - check and restart pipelines\n",
    "\n",
    "This notebook is run periodically from k972il's Jenkins server"
   ]
  },
  {
   "cell_type": "code",
   "execution_count": 14,
   "metadata": {},
   "outputs": [
    {
     "name": "stdin",
     "output_type": "stream",
     "text": [
      "PIPELINES_URL: ······························································\n",
      "FORCE_RESTART: \n"
     ]
    }
   ],
   "source": [
    "import getpass, os\n",
    "\n",
    "pipelines_url = os.environ.get('PIPELINES_URL') or getpass.getpass('PIPELINES_URL:')\n",
    "force_restart = os.environ.get('FORCE_RESTART')"
   ]
  },
  {
   "cell_type": "code",
   "execution_count": 15,
   "metadata": {},
   "outputs": [
    {
     "name": "stdout",
     "output_type": "stream",
     "text": [
      "last_success: 2019-10-11 09:53:06.645970\n",
      "Great Success\n"
     ]
    }
   ],
   "source": [
    "import json, requests, subprocess, datetime\n",
    "\n",
    "try:\n",
    "  status = requests.get(\"{}/pipelines/api/raw/ckanext-upload_via_email/upload_via_email\".format(pipelines_url)).json()\n",
    "except Exception as e:\n",
    "  print(\"Exception getting status: {}\".format(e))\n",
    "  status = {}\n",
    "    \n",
    "last_success = status.get('last_success')\n",
    "print('last_success: {}'.format(datetime.datetime.fromtimestamp(last_success)))\n",
    "\n",
    "def restart_pipelines():\n",
    "  print(\"Restarting pipelines\")\n",
    "  cmd = 'kubectl -n odata-blue get pods | grep pipelines- | cut -f1 -d\" \"'\n",
    "  status, output = subprocess.getstatusoutput(cmd)\n",
    "  if status != 0: exit(1)\n",
    "  for pod in output.split():\n",
    "    print(\"Deleting pod {}\".format(pod))\n",
    "    print(\"status={} output={}\".format(*subprocess.getstatusoutput(\"kubectl -n odata-blue delete pod {}\".format(pod))))\n",
    "\n",
    "if force_restart:\n",
    "  print('forced restart')\n",
    "  restart_pipelines()\n",
    "if not last_success:\n",
    "  print('could not find last success, restarting the pipelines')\n",
    "  restart_pipelines()\n",
    "elif (datetime.datetime.now() - datetime.datetime.fromtimestamp(last_success)).total_seconds()/60/60 > 2:\n",
    "  print('last success is more then 2 hours ago, restarting the pipelines')\n",
    "  restart_pipelines()\n",
    "\n",
    "print('Great Success')"
   ]
  }
 ],
 "metadata": {
  "kernelspec": {
   "display_name": "Python 3",
   "language": "python",
   "name": "python3"
  },
  "language_info": {
   "codemirror_mode": {
    "name": "ipython",
    "version": 3
   },
   "file_extension": ".py",
   "mimetype": "text/x-python",
   "name": "python",
   "nbconvert_exporter": "python",
   "pygments_lexer": "ipython3",
   "version": "3.6.8"
  }
 },
 "nbformat": 4,
 "nbformat_minor": 4
}
